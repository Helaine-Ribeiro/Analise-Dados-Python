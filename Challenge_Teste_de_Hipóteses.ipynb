{
  "nbformat": 4,
  "nbformat_minor": 0,
  "metadata": {
    "colab": {
      "provenance": [],
      "authorship_tag": "ABX9TyMLrSNVZyDucCoCSj50FlE9",
      "include_colab_link": true
    },
    "kernelspec": {
      "name": "python3",
      "display_name": "Python 3"
    },
    "language_info": {
      "name": "python"
    }
  },
  "cells": [
    {
      "cell_type": "markdown",
      "metadata": {
        "id": "view-in-github",
        "colab_type": "text"
      },
      "source": [
        "<a href=\"https://colab.research.google.com/github/Helaine-Ribeiro/Analise-Dados-Python/blob/main/Challenge_Teste_de_Hip%C3%B3teses.ipynb\" target=\"_parent\"><img src=\"https://colab.research.google.com/assets/colab-badge.svg\" alt=\"Open In Colab\"/></a>"
      ]
    },
    {
      "cell_type": "markdown",
      "source": [
        "# Challenge Teste de Hipóteses"
      ],
      "metadata": {
        "id": "Dm5yx0y0Y414"
      }
    },
    {
      "cell_type": "markdown",
      "source": [
        "# Desafio 1 : Cosméticos"
      ],
      "metadata": {
        "id": "V1yzmM-3ZAu3"
      }
    },
    {
      "cell_type": "markdown",
      "source": [
        "Suponha que você trabalha em uma empresa do ramo de cosméticos ou beleza. O\n",
        "Time de produtos dessa empresa está interessado criar novos batons com maior\n",
        "durabilidade. Para isso estão testando 3 diferentes fórmulas para irem a mercado.\n",
        "\n",
        "Com isso, a empresa fez uma pesquisa com varias voluntárias e populou a base de\n",
        "dados (desafio_01_cosmeticos.csv) contendo as seguintes informacoes:\n",
        "\n",
        "● id_produto: código identificador do produto, com a fórmula utilizada. Para\n",
        "diferenciarmos se se trata do batom com a fórmula 1, 2 ou 3\n",
        "\n",
        "● id_voluntária: código identificador da voluntária que utilizou o produto.\n",
        "\n",
        "● durabilidade: quanto tempo o produto durou em horas.\n",
        "\n",
        "● idade: idade da voluntária\n",
        "\n",
        "● exposicao_sol: variável que indica 1 se a voluntária se expos ao sol 0 caso\n",
        "contrário.\n",
        "\n",
        "De posse dessas informacoes, o time de produtos solicitou aos analistas de dados da empresa as seguintes perguntas a serem respondidas:\n",
        "\n",
        "1 - Existe diferenca estatisticamente significativa na durabilidade dos batons com formulas diferentes?\n",
        "\n",
        "2 - Essa diferenca persiste ou nao quando a voluntária se expoe ao sol? E com\n",
        "relacao a idade?\n",
        "\n",
        "3- Qual fórmula de batom voce indicaria para consumidores que buscam maior\n",
        "durabilidade e exposicao ao sol?\n",
        "\n",
        "Mateiral de Apoio:\n",
        "https://medium.com/rodrigo-lampier/usando-teste-de-hip%C3%B3teses-para-resp\n",
        "onder-quest%C3%B5es-de-neg%C3%B3cio-8a3d5ae9ebc0"
      ],
      "metadata": {
        "id": "JIf2gfPKZJR3"
      }
    },
    {
      "cell_type": "code",
      "execution_count": 1,
      "metadata": {
        "id": "K6YYvKsX23qR"
      },
      "outputs": [],
      "source": [
        "#### importando os pacotes\n",
        "import pandas as pd\n",
        "from scipy import stats\n",
        "import numpy as np\n",
        "import seaborn as sns ## gráficos\n",
        "import matplotlib.pyplot as plt ## gráficos\n",
        "#Warnings: Possui uma série de funções e comandos para tratamento de mensagens de avisos e alertas do Python\n",
        "import warnings\n",
        "warnings.filterwarnings(\"ignore\")\n",
        "\n",
        "##from google.colab import drive ## conectar com o google drive para ler seus arquivos\n",
        "## pd.set_option('displau.float_format'), lambda x: '%.5f' % x)"
      ]
    },
    {
      "cell_type": "code",
      "source": [
        "# drive.mount('/content/drive') ##conectando com o google drive para ler os arquivos da nuvem"
      ],
      "metadata": {
        "id": "3Fnc-WP0o220"
      },
      "execution_count": null,
      "outputs": []
    },
    {
      "cell_type": "code",
      "source": [
        "## df = pd.read.csv(\"/content/drive/MyDrive/caminho do drive\")"
      ],
      "metadata": {
        "id": "T71wWZGwpGO7"
      },
      "execution_count": null,
      "outputs": []
    },
    {
      "cell_type": "code",
      "source": [
        "#Comando utilizado para carregar o arquivo e armazena-lo como um DataFrame do Pandas\n",
        "#Um DataFrame do Pandas é como se fosse uma planilha do Excel, onde podemos tratar linhas e colunas.\n",
        "df_cosmeticos = pd.read_csv(\"desafio_01_cosmeticos_challenge_testehipoteses.csv\")\n",
        "df_cosmeticos"
      ],
      "metadata": {
        "colab": {
          "base_uri": "https://localhost:8080/",
          "height": 423
        },
        "id": "e-MBeKN1SWYB",
        "outputId": "cca134c6-8e94-4da9-cdbd-e420cab963fc"
      },
      "execution_count": 2,
      "outputs": [
        {
          "output_type": "execute_result",
          "data": {
            "text/plain": [
              "     id_produto  id_voluntária  durabilidade  idade  exposicao_sol\n",
              "0             1              1            12     40              1\n",
              "1             2              2             5     36              0\n",
              "2             1              3            19     47              0\n",
              "3             1              4            14     36              1\n",
              "4             1              5            17     46              1\n",
              "..          ...            ...           ...    ...            ...\n",
              "295           3            296            18     52              0\n",
              "296           3            297            30     19              0\n",
              "297           3            298            43     23              1\n",
              "298           3            299            41     19              0\n",
              "299           3            300            25     21              0\n",
              "\n",
              "[300 rows x 5 columns]"
            ],
            "text/html": [
              "\n",
              "  <div id=\"df-a9c2ee85-06ad-4e5b-b464-a080929ff317\" class=\"colab-df-container\">\n",
              "    <div>\n",
              "<style scoped>\n",
              "    .dataframe tbody tr th:only-of-type {\n",
              "        vertical-align: middle;\n",
              "    }\n",
              "\n",
              "    .dataframe tbody tr th {\n",
              "        vertical-align: top;\n",
              "    }\n",
              "\n",
              "    .dataframe thead th {\n",
              "        text-align: right;\n",
              "    }\n",
              "</style>\n",
              "<table border=\"1\" class=\"dataframe\">\n",
              "  <thead>\n",
              "    <tr style=\"text-align: right;\">\n",
              "      <th></th>\n",
              "      <th>id_produto</th>\n",
              "      <th>id_voluntária</th>\n",
              "      <th>durabilidade</th>\n",
              "      <th>idade</th>\n",
              "      <th>exposicao_sol</th>\n",
              "    </tr>\n",
              "  </thead>\n",
              "  <tbody>\n",
              "    <tr>\n",
              "      <th>0</th>\n",
              "      <td>1</td>\n",
              "      <td>1</td>\n",
              "      <td>12</td>\n",
              "      <td>40</td>\n",
              "      <td>1</td>\n",
              "    </tr>\n",
              "    <tr>\n",
              "      <th>1</th>\n",
              "      <td>2</td>\n",
              "      <td>2</td>\n",
              "      <td>5</td>\n",
              "      <td>36</td>\n",
              "      <td>0</td>\n",
              "    </tr>\n",
              "    <tr>\n",
              "      <th>2</th>\n",
              "      <td>1</td>\n",
              "      <td>3</td>\n",
              "      <td>19</td>\n",
              "      <td>47</td>\n",
              "      <td>0</td>\n",
              "    </tr>\n",
              "    <tr>\n",
              "      <th>3</th>\n",
              "      <td>1</td>\n",
              "      <td>4</td>\n",
              "      <td>14</td>\n",
              "      <td>36</td>\n",
              "      <td>1</td>\n",
              "    </tr>\n",
              "    <tr>\n",
              "      <th>4</th>\n",
              "      <td>1</td>\n",
              "      <td>5</td>\n",
              "      <td>17</td>\n",
              "      <td>46</td>\n",
              "      <td>1</td>\n",
              "    </tr>\n",
              "    <tr>\n",
              "      <th>...</th>\n",
              "      <td>...</td>\n",
              "      <td>...</td>\n",
              "      <td>...</td>\n",
              "      <td>...</td>\n",
              "      <td>...</td>\n",
              "    </tr>\n",
              "    <tr>\n",
              "      <th>295</th>\n",
              "      <td>3</td>\n",
              "      <td>296</td>\n",
              "      <td>18</td>\n",
              "      <td>52</td>\n",
              "      <td>0</td>\n",
              "    </tr>\n",
              "    <tr>\n",
              "      <th>296</th>\n",
              "      <td>3</td>\n",
              "      <td>297</td>\n",
              "      <td>30</td>\n",
              "      <td>19</td>\n",
              "      <td>0</td>\n",
              "    </tr>\n",
              "    <tr>\n",
              "      <th>297</th>\n",
              "      <td>3</td>\n",
              "      <td>298</td>\n",
              "      <td>43</td>\n",
              "      <td>23</td>\n",
              "      <td>1</td>\n",
              "    </tr>\n",
              "    <tr>\n",
              "      <th>298</th>\n",
              "      <td>3</td>\n",
              "      <td>299</td>\n",
              "      <td>41</td>\n",
              "      <td>19</td>\n",
              "      <td>0</td>\n",
              "    </tr>\n",
              "    <tr>\n",
              "      <th>299</th>\n",
              "      <td>3</td>\n",
              "      <td>300</td>\n",
              "      <td>25</td>\n",
              "      <td>21</td>\n",
              "      <td>0</td>\n",
              "    </tr>\n",
              "  </tbody>\n",
              "</table>\n",
              "<p>300 rows × 5 columns</p>\n",
              "</div>\n",
              "    <div class=\"colab-df-buttons\">\n",
              "\n",
              "  <div class=\"colab-df-container\">\n",
              "    <button class=\"colab-df-convert\" onclick=\"convertToInteractive('df-a9c2ee85-06ad-4e5b-b464-a080929ff317')\"\n",
              "            title=\"Convert this dataframe to an interactive table.\"\n",
              "            style=\"display:none;\">\n",
              "\n",
              "  <svg xmlns=\"http://www.w3.org/2000/svg\" height=\"24px\" viewBox=\"0 -960 960 960\">\n",
              "    <path d=\"M120-120v-720h720v720H120Zm60-500h600v-160H180v160Zm220 220h160v-160H400v160Zm0 220h160v-160H400v160ZM180-400h160v-160H180v160Zm440 0h160v-160H620v160ZM180-180h160v-160H180v160Zm440 0h160v-160H620v160Z\"/>\n",
              "  </svg>\n",
              "    </button>\n",
              "\n",
              "  <style>\n",
              "    .colab-df-container {\n",
              "      display:flex;\n",
              "      gap: 12px;\n",
              "    }\n",
              "\n",
              "    .colab-df-convert {\n",
              "      background-color: #E8F0FE;\n",
              "      border: none;\n",
              "      border-radius: 50%;\n",
              "      cursor: pointer;\n",
              "      display: none;\n",
              "      fill: #1967D2;\n",
              "      height: 32px;\n",
              "      padding: 0 0 0 0;\n",
              "      width: 32px;\n",
              "    }\n",
              "\n",
              "    .colab-df-convert:hover {\n",
              "      background-color: #E2EBFA;\n",
              "      box-shadow: 0px 1px 2px rgba(60, 64, 67, 0.3), 0px 1px 3px 1px rgba(60, 64, 67, 0.15);\n",
              "      fill: #174EA6;\n",
              "    }\n",
              "\n",
              "    .colab-df-buttons div {\n",
              "      margin-bottom: 4px;\n",
              "    }\n",
              "\n",
              "    [theme=dark] .colab-df-convert {\n",
              "      background-color: #3B4455;\n",
              "      fill: #D2E3FC;\n",
              "    }\n",
              "\n",
              "    [theme=dark] .colab-df-convert:hover {\n",
              "      background-color: #434B5C;\n",
              "      box-shadow: 0px 1px 3px 1px rgba(0, 0, 0, 0.15);\n",
              "      filter: drop-shadow(0px 1px 2px rgba(0, 0, 0, 0.3));\n",
              "      fill: #FFFFFF;\n",
              "    }\n",
              "  </style>\n",
              "\n",
              "    <script>\n",
              "      const buttonEl =\n",
              "        document.querySelector('#df-a9c2ee85-06ad-4e5b-b464-a080929ff317 button.colab-df-convert');\n",
              "      buttonEl.style.display =\n",
              "        google.colab.kernel.accessAllowed ? 'block' : 'none';\n",
              "\n",
              "      async function convertToInteractive(key) {\n",
              "        const element = document.querySelector('#df-a9c2ee85-06ad-4e5b-b464-a080929ff317');\n",
              "        const dataTable =\n",
              "          await google.colab.kernel.invokeFunction('convertToInteractive',\n",
              "                                                    [key], {});\n",
              "        if (!dataTable) return;\n",
              "\n",
              "        const docLinkHtml = 'Like what you see? Visit the ' +\n",
              "          '<a target=\"_blank\" href=https://colab.research.google.com/notebooks/data_table.ipynb>data table notebook</a>'\n",
              "          + ' to learn more about interactive tables.';\n",
              "        element.innerHTML = '';\n",
              "        dataTable['output_type'] = 'display_data';\n",
              "        await google.colab.output.renderOutput(dataTable, element);\n",
              "        const docLink = document.createElement('div');\n",
              "        docLink.innerHTML = docLinkHtml;\n",
              "        element.appendChild(docLink);\n",
              "      }\n",
              "    </script>\n",
              "  </div>\n",
              "\n",
              "\n",
              "<div id=\"df-233b7523-c388-4502-9040-276d0a2078b6\">\n",
              "  <button class=\"colab-df-quickchart\" onclick=\"quickchart('df-233b7523-c388-4502-9040-276d0a2078b6')\"\n",
              "            title=\"Suggest charts\"\n",
              "            style=\"display:none;\">\n",
              "\n",
              "<svg xmlns=\"http://www.w3.org/2000/svg\" height=\"24px\"viewBox=\"0 0 24 24\"\n",
              "     width=\"24px\">\n",
              "    <g>\n",
              "        <path d=\"M19 3H5c-1.1 0-2 .9-2 2v14c0 1.1.9 2 2 2h14c1.1 0 2-.9 2-2V5c0-1.1-.9-2-2-2zM9 17H7v-7h2v7zm4 0h-2V7h2v10zm4 0h-2v-4h2v4z\"/>\n",
              "    </g>\n",
              "</svg>\n",
              "  </button>\n",
              "\n",
              "<style>\n",
              "  .colab-df-quickchart {\n",
              "      --bg-color: #E8F0FE;\n",
              "      --fill-color: #1967D2;\n",
              "      --hover-bg-color: #E2EBFA;\n",
              "      --hover-fill-color: #174EA6;\n",
              "      --disabled-fill-color: #AAA;\n",
              "      --disabled-bg-color: #DDD;\n",
              "  }\n",
              "\n",
              "  [theme=dark] .colab-df-quickchart {\n",
              "      --bg-color: #3B4455;\n",
              "      --fill-color: #D2E3FC;\n",
              "      --hover-bg-color: #434B5C;\n",
              "      --hover-fill-color: #FFFFFF;\n",
              "      --disabled-bg-color: #3B4455;\n",
              "      --disabled-fill-color: #666;\n",
              "  }\n",
              "\n",
              "  .colab-df-quickchart {\n",
              "    background-color: var(--bg-color);\n",
              "    border: none;\n",
              "    border-radius: 50%;\n",
              "    cursor: pointer;\n",
              "    display: none;\n",
              "    fill: var(--fill-color);\n",
              "    height: 32px;\n",
              "    padding: 0;\n",
              "    width: 32px;\n",
              "  }\n",
              "\n",
              "  .colab-df-quickchart:hover {\n",
              "    background-color: var(--hover-bg-color);\n",
              "    box-shadow: 0 1px 2px rgba(60, 64, 67, 0.3), 0 1px 3px 1px rgba(60, 64, 67, 0.15);\n",
              "    fill: var(--button-hover-fill-color);\n",
              "  }\n",
              "\n",
              "  .colab-df-quickchart-complete:disabled,\n",
              "  .colab-df-quickchart-complete:disabled:hover {\n",
              "    background-color: var(--disabled-bg-color);\n",
              "    fill: var(--disabled-fill-color);\n",
              "    box-shadow: none;\n",
              "  }\n",
              "\n",
              "  .colab-df-spinner {\n",
              "    border: 2px solid var(--fill-color);\n",
              "    border-color: transparent;\n",
              "    border-bottom-color: var(--fill-color);\n",
              "    animation:\n",
              "      spin 1s steps(1) infinite;\n",
              "  }\n",
              "\n",
              "  @keyframes spin {\n",
              "    0% {\n",
              "      border-color: transparent;\n",
              "      border-bottom-color: var(--fill-color);\n",
              "      border-left-color: var(--fill-color);\n",
              "    }\n",
              "    20% {\n",
              "      border-color: transparent;\n",
              "      border-left-color: var(--fill-color);\n",
              "      border-top-color: var(--fill-color);\n",
              "    }\n",
              "    30% {\n",
              "      border-color: transparent;\n",
              "      border-left-color: var(--fill-color);\n",
              "      border-top-color: var(--fill-color);\n",
              "      border-right-color: var(--fill-color);\n",
              "    }\n",
              "    40% {\n",
              "      border-color: transparent;\n",
              "      border-right-color: var(--fill-color);\n",
              "      border-top-color: var(--fill-color);\n",
              "    }\n",
              "    60% {\n",
              "      border-color: transparent;\n",
              "      border-right-color: var(--fill-color);\n",
              "    }\n",
              "    80% {\n",
              "      border-color: transparent;\n",
              "      border-right-color: var(--fill-color);\n",
              "      border-bottom-color: var(--fill-color);\n",
              "    }\n",
              "    90% {\n",
              "      border-color: transparent;\n",
              "      border-bottom-color: var(--fill-color);\n",
              "    }\n",
              "  }\n",
              "</style>\n",
              "\n",
              "  <script>\n",
              "    async function quickchart(key) {\n",
              "      const quickchartButtonEl =\n",
              "        document.querySelector('#' + key + ' button');\n",
              "      quickchartButtonEl.disabled = true;  // To prevent multiple clicks.\n",
              "      quickchartButtonEl.classList.add('colab-df-spinner');\n",
              "      try {\n",
              "        const charts = await google.colab.kernel.invokeFunction(\n",
              "            'suggestCharts', [key], {});\n",
              "      } catch (error) {\n",
              "        console.error('Error during call to suggestCharts:', error);\n",
              "      }\n",
              "      quickchartButtonEl.classList.remove('colab-df-spinner');\n",
              "      quickchartButtonEl.classList.add('colab-df-quickchart-complete');\n",
              "    }\n",
              "    (() => {\n",
              "      let quickchartButtonEl =\n",
              "        document.querySelector('#df-233b7523-c388-4502-9040-276d0a2078b6 button');\n",
              "      quickchartButtonEl.style.display =\n",
              "        google.colab.kernel.accessAllowed ? 'block' : 'none';\n",
              "    })();\n",
              "  </script>\n",
              "</div>\n",
              "\n",
              "  <div id=\"id_b4326ff1-128e-4ada-a178-990ee89fde91\">\n",
              "    <style>\n",
              "      .colab-df-generate {\n",
              "        background-color: #E8F0FE;\n",
              "        border: none;\n",
              "        border-radius: 50%;\n",
              "        cursor: pointer;\n",
              "        display: none;\n",
              "        fill: #1967D2;\n",
              "        height: 32px;\n",
              "        padding: 0 0 0 0;\n",
              "        width: 32px;\n",
              "      }\n",
              "\n",
              "      .colab-df-generate:hover {\n",
              "        background-color: #E2EBFA;\n",
              "        box-shadow: 0px 1px 2px rgba(60, 64, 67, 0.3), 0px 1px 3px 1px rgba(60, 64, 67, 0.15);\n",
              "        fill: #174EA6;\n",
              "      }\n",
              "\n",
              "      [theme=dark] .colab-df-generate {\n",
              "        background-color: #3B4455;\n",
              "        fill: #D2E3FC;\n",
              "      }\n",
              "\n",
              "      [theme=dark] .colab-df-generate:hover {\n",
              "        background-color: #434B5C;\n",
              "        box-shadow: 0px 1px 3px 1px rgba(0, 0, 0, 0.15);\n",
              "        filter: drop-shadow(0px 1px 2px rgba(0, 0, 0, 0.3));\n",
              "        fill: #FFFFFF;\n",
              "      }\n",
              "    </style>\n",
              "    <button class=\"colab-df-generate\" onclick=\"generateWithVariable('df_cosmeticos')\"\n",
              "            title=\"Generate code using this dataframe.\"\n",
              "            style=\"display:none;\">\n",
              "\n",
              "  <svg xmlns=\"http://www.w3.org/2000/svg\" height=\"24px\"viewBox=\"0 0 24 24\"\n",
              "       width=\"24px\">\n",
              "    <path d=\"M7,19H8.4L18.45,9,17,7.55,7,17.6ZM5,21V16.75L18.45,3.32a2,2,0,0,1,2.83,0l1.4,1.43a1.91,1.91,0,0,1,.58,1.4,1.91,1.91,0,0,1-.58,1.4L9.25,21ZM18.45,9,17,7.55Zm-12,3A5.31,5.31,0,0,0,4.9,8.1,5.31,5.31,0,0,0,1,6.5,5.31,5.31,0,0,0,4.9,4.9,5.31,5.31,0,0,0,6.5,1,5.31,5.31,0,0,0,8.1,4.9,5.31,5.31,0,0,0,12,6.5,5.46,5.46,0,0,0,6.5,12Z\"/>\n",
              "  </svg>\n",
              "    </button>\n",
              "    <script>\n",
              "      (() => {\n",
              "      const buttonEl =\n",
              "        document.querySelector('#id_b4326ff1-128e-4ada-a178-990ee89fde91 button.colab-df-generate');\n",
              "      buttonEl.style.display =\n",
              "        google.colab.kernel.accessAllowed ? 'block' : 'none';\n",
              "\n",
              "      buttonEl.onclick = () => {\n",
              "        google.colab.notebook.generateWithVariable('df_cosmeticos');\n",
              "      }\n",
              "      })();\n",
              "    </script>\n",
              "  </div>\n",
              "\n",
              "    </div>\n",
              "  </div>\n"
            ],
            "application/vnd.google.colaboratory.intrinsic+json": {
              "type": "dataframe",
              "variable_name": "df_cosmeticos",
              "summary": "{\n  \"name\": \"df_cosmeticos\",\n  \"rows\": 300,\n  \"fields\": [\n    {\n      \"column\": \"id_produto\",\n      \"properties\": {\n        \"dtype\": \"number\",\n        \"std\": 0,\n        \"min\": 1,\n        \"max\": 3,\n        \"num_unique_values\": 3,\n        \"samples\": [\n          1,\n          2,\n          3\n        ],\n        \"semantic_type\": \"\",\n        \"description\": \"\"\n      }\n    },\n    {\n      \"column\": \"id_volunt\\u00e1ria\",\n      \"properties\": {\n        \"dtype\": \"number\",\n        \"std\": 86,\n        \"min\": 1,\n        \"max\": 300,\n        \"num_unique_values\": 300,\n        \"samples\": [\n          204,\n          267,\n          153\n        ],\n        \"semantic_type\": \"\",\n        \"description\": \"\"\n      }\n    },\n    {\n      \"column\": \"durabilidade\",\n      \"properties\": {\n        \"dtype\": \"number\",\n        \"std\": 10,\n        \"min\": 5,\n        \"max\": 48,\n        \"num_unique_values\": 39,\n        \"samples\": [\n          44,\n          27,\n          17\n        ],\n        \"semantic_type\": \"\",\n        \"description\": \"\"\n      }\n    },\n    {\n      \"column\": \"idade\",\n      \"properties\": {\n        \"dtype\": \"number\",\n        \"std\": 12,\n        \"min\": 18,\n        \"max\": 60,\n        \"num_unique_values\": 43,\n        \"samples\": [\n          59,\n          48,\n          41\n        ],\n        \"semantic_type\": \"\",\n        \"description\": \"\"\n      }\n    },\n    {\n      \"column\": \"exposicao_sol\",\n      \"properties\": {\n        \"dtype\": \"number\",\n        \"std\": 0,\n        \"min\": 0,\n        \"max\": 1,\n        \"num_unique_values\": 2,\n        \"samples\": [\n          0,\n          1\n        ],\n        \"semantic_type\": \"\",\n        \"description\": \"\"\n      }\n    }\n  ]\n}"
            }
          },
          "metadata": {},
          "execution_count": 2
        }
      ]
    },
    {
      "cell_type": "code",
      "source": [
        "#Comando utilizado para verificar informações sobre os dados(Tipo de variáveis, Variáveis, Quantidade de registros, etc)\n",
        "df_cosmeticos.info()\n"
      ],
      "metadata": {
        "colab": {
          "base_uri": "https://localhost:8080/"
        },
        "id": "UTzPSpioa7po",
        "outputId": "1565ca3c-9466-4af3-9ac9-767d88554272"
      },
      "execution_count": 3,
      "outputs": [
        {
          "output_type": "stream",
          "name": "stdout",
          "text": [
            "<class 'pandas.core.frame.DataFrame'>\n",
            "RangeIndex: 300 entries, 0 to 299\n",
            "Data columns (total 5 columns):\n",
            " #   Column         Non-Null Count  Dtype\n",
            "---  ------         --------------  -----\n",
            " 0   id_produto     300 non-null    int64\n",
            " 1   id_voluntária  300 non-null    int64\n",
            " 2   durabilidade   300 non-null    int64\n",
            " 3   idade          300 non-null    int64\n",
            " 4   exposicao_sol  300 non-null    int64\n",
            "dtypes: int64(5)\n",
            "memory usage: 11.8 KB\n"
          ]
        }
      ]
    },
    {
      "cell_type": "code",
      "source": [
        "# Comando utilizado para avaliar se alguma variável possui valor nulo ou chamado de valores missing ou NAN (Not Available)\n",
        "df_cosmeticos.isnull().sum()"
      ],
      "metadata": {
        "colab": {
          "base_uri": "https://localhost:8080/"
        },
        "id": "7yBnZzCPYL_c",
        "outputId": "f24cfb84-2070-4c87-88fa-7b8f8e7b1b67"
      },
      "execution_count": 4,
      "outputs": [
        {
          "output_type": "execute_result",
          "data": {
            "text/plain": [
              "id_produto       0\n",
              "id_voluntária    0\n",
              "durabilidade     0\n",
              "idade            0\n",
              "exposicao_sol    0\n",
              "dtype: int64"
            ]
          },
          "metadata": {},
          "execution_count": 4
        }
      ]
    },
    {
      "cell_type": "code",
      "source": [
        "#Comando utilizado para fazer uma analise rápida com medidas estatisticas(Média, Mediana, Desvio Padrão, etc)\n",
        "df_cosmeticos.describe()"
      ],
      "metadata": {
        "colab": {
          "base_uri": "https://localhost:8080/",
          "height": 300
        },
        "id": "iBiVusKTY0mP",
        "outputId": "f00d89e8-7f05-4fbf-bc55-3ee178b65640"
      },
      "execution_count": 5,
      "outputs": [
        {
          "output_type": "execute_result",
          "data": {
            "text/plain": [
              "       id_produto  id_voluntária  durabilidade       idade  exposicao_sol\n",
              "count  300.000000     300.000000    300.000000  300.000000     300.000000\n",
              "mean     2.000000     150.500000     17.133333   36.886667       0.440000\n",
              "std      0.817861      86.746758     10.942945   12.625841       0.497216\n",
              "min      1.000000       1.000000      5.000000   18.000000       0.000000\n",
              "25%      1.000000      75.750000      9.000000   26.000000       0.000000\n",
              "50%      2.000000     150.500000     14.000000   36.000000       0.000000\n",
              "75%      3.000000     225.250000     20.000000   48.000000       1.000000\n",
              "max      3.000000     300.000000     48.000000   60.000000       1.000000"
            ],
            "text/html": [
              "\n",
              "  <div id=\"df-83659bf0-1633-4369-932b-f09824e1cd4a\" class=\"colab-df-container\">\n",
              "    <div>\n",
              "<style scoped>\n",
              "    .dataframe tbody tr th:only-of-type {\n",
              "        vertical-align: middle;\n",
              "    }\n",
              "\n",
              "    .dataframe tbody tr th {\n",
              "        vertical-align: top;\n",
              "    }\n",
              "\n",
              "    .dataframe thead th {\n",
              "        text-align: right;\n",
              "    }\n",
              "</style>\n",
              "<table border=\"1\" class=\"dataframe\">\n",
              "  <thead>\n",
              "    <tr style=\"text-align: right;\">\n",
              "      <th></th>\n",
              "      <th>id_produto</th>\n",
              "      <th>id_voluntária</th>\n",
              "      <th>durabilidade</th>\n",
              "      <th>idade</th>\n",
              "      <th>exposicao_sol</th>\n",
              "    </tr>\n",
              "  </thead>\n",
              "  <tbody>\n",
              "    <tr>\n",
              "      <th>count</th>\n",
              "      <td>300.000000</td>\n",
              "      <td>300.000000</td>\n",
              "      <td>300.000000</td>\n",
              "      <td>300.000000</td>\n",
              "      <td>300.000000</td>\n",
              "    </tr>\n",
              "    <tr>\n",
              "      <th>mean</th>\n",
              "      <td>2.000000</td>\n",
              "      <td>150.500000</td>\n",
              "      <td>17.133333</td>\n",
              "      <td>36.886667</td>\n",
              "      <td>0.440000</td>\n",
              "    </tr>\n",
              "    <tr>\n",
              "      <th>std</th>\n",
              "      <td>0.817861</td>\n",
              "      <td>86.746758</td>\n",
              "      <td>10.942945</td>\n",
              "      <td>12.625841</td>\n",
              "      <td>0.497216</td>\n",
              "    </tr>\n",
              "    <tr>\n",
              "      <th>min</th>\n",
              "      <td>1.000000</td>\n",
              "      <td>1.000000</td>\n",
              "      <td>5.000000</td>\n",
              "      <td>18.000000</td>\n",
              "      <td>0.000000</td>\n",
              "    </tr>\n",
              "    <tr>\n",
              "      <th>25%</th>\n",
              "      <td>1.000000</td>\n",
              "      <td>75.750000</td>\n",
              "      <td>9.000000</td>\n",
              "      <td>26.000000</td>\n",
              "      <td>0.000000</td>\n",
              "    </tr>\n",
              "    <tr>\n",
              "      <th>50%</th>\n",
              "      <td>2.000000</td>\n",
              "      <td>150.500000</td>\n",
              "      <td>14.000000</td>\n",
              "      <td>36.000000</td>\n",
              "      <td>0.000000</td>\n",
              "    </tr>\n",
              "    <tr>\n",
              "      <th>75%</th>\n",
              "      <td>3.000000</td>\n",
              "      <td>225.250000</td>\n",
              "      <td>20.000000</td>\n",
              "      <td>48.000000</td>\n",
              "      <td>1.000000</td>\n",
              "    </tr>\n",
              "    <tr>\n",
              "      <th>max</th>\n",
              "      <td>3.000000</td>\n",
              "      <td>300.000000</td>\n",
              "      <td>48.000000</td>\n",
              "      <td>60.000000</td>\n",
              "      <td>1.000000</td>\n",
              "    </tr>\n",
              "  </tbody>\n",
              "</table>\n",
              "</div>\n",
              "    <div class=\"colab-df-buttons\">\n",
              "\n",
              "  <div class=\"colab-df-container\">\n",
              "    <button class=\"colab-df-convert\" onclick=\"convertToInteractive('df-83659bf0-1633-4369-932b-f09824e1cd4a')\"\n",
              "            title=\"Convert this dataframe to an interactive table.\"\n",
              "            style=\"display:none;\">\n",
              "\n",
              "  <svg xmlns=\"http://www.w3.org/2000/svg\" height=\"24px\" viewBox=\"0 -960 960 960\">\n",
              "    <path d=\"M120-120v-720h720v720H120Zm60-500h600v-160H180v160Zm220 220h160v-160H400v160Zm0 220h160v-160H400v160ZM180-400h160v-160H180v160Zm440 0h160v-160H620v160ZM180-180h160v-160H180v160Zm440 0h160v-160H620v160Z\"/>\n",
              "  </svg>\n",
              "    </button>\n",
              "\n",
              "  <style>\n",
              "    .colab-df-container {\n",
              "      display:flex;\n",
              "      gap: 12px;\n",
              "    }\n",
              "\n",
              "    .colab-df-convert {\n",
              "      background-color: #E8F0FE;\n",
              "      border: none;\n",
              "      border-radius: 50%;\n",
              "      cursor: pointer;\n",
              "      display: none;\n",
              "      fill: #1967D2;\n",
              "      height: 32px;\n",
              "      padding: 0 0 0 0;\n",
              "      width: 32px;\n",
              "    }\n",
              "\n",
              "    .colab-df-convert:hover {\n",
              "      background-color: #E2EBFA;\n",
              "      box-shadow: 0px 1px 2px rgba(60, 64, 67, 0.3), 0px 1px 3px 1px rgba(60, 64, 67, 0.15);\n",
              "      fill: #174EA6;\n",
              "    }\n",
              "\n",
              "    .colab-df-buttons div {\n",
              "      margin-bottom: 4px;\n",
              "    }\n",
              "\n",
              "    [theme=dark] .colab-df-convert {\n",
              "      background-color: #3B4455;\n",
              "      fill: #D2E3FC;\n",
              "    }\n",
              "\n",
              "    [theme=dark] .colab-df-convert:hover {\n",
              "      background-color: #434B5C;\n",
              "      box-shadow: 0px 1px 3px 1px rgba(0, 0, 0, 0.15);\n",
              "      filter: drop-shadow(0px 1px 2px rgba(0, 0, 0, 0.3));\n",
              "      fill: #FFFFFF;\n",
              "    }\n",
              "  </style>\n",
              "\n",
              "    <script>\n",
              "      const buttonEl =\n",
              "        document.querySelector('#df-83659bf0-1633-4369-932b-f09824e1cd4a button.colab-df-convert');\n",
              "      buttonEl.style.display =\n",
              "        google.colab.kernel.accessAllowed ? 'block' : 'none';\n",
              "\n",
              "      async function convertToInteractive(key) {\n",
              "        const element = document.querySelector('#df-83659bf0-1633-4369-932b-f09824e1cd4a');\n",
              "        const dataTable =\n",
              "          await google.colab.kernel.invokeFunction('convertToInteractive',\n",
              "                                                    [key], {});\n",
              "        if (!dataTable) return;\n",
              "\n",
              "        const docLinkHtml = 'Like what you see? Visit the ' +\n",
              "          '<a target=\"_blank\" href=https://colab.research.google.com/notebooks/data_table.ipynb>data table notebook</a>'\n",
              "          + ' to learn more about interactive tables.';\n",
              "        element.innerHTML = '';\n",
              "        dataTable['output_type'] = 'display_data';\n",
              "        await google.colab.output.renderOutput(dataTable, element);\n",
              "        const docLink = document.createElement('div');\n",
              "        docLink.innerHTML = docLinkHtml;\n",
              "        element.appendChild(docLink);\n",
              "      }\n",
              "    </script>\n",
              "  </div>\n",
              "\n",
              "\n",
              "<div id=\"df-2f930e9c-7c4f-44ce-a0c8-7e2b95eb9473\">\n",
              "  <button class=\"colab-df-quickchart\" onclick=\"quickchart('df-2f930e9c-7c4f-44ce-a0c8-7e2b95eb9473')\"\n",
              "            title=\"Suggest charts\"\n",
              "            style=\"display:none;\">\n",
              "\n",
              "<svg xmlns=\"http://www.w3.org/2000/svg\" height=\"24px\"viewBox=\"0 0 24 24\"\n",
              "     width=\"24px\">\n",
              "    <g>\n",
              "        <path d=\"M19 3H5c-1.1 0-2 .9-2 2v14c0 1.1.9 2 2 2h14c1.1 0 2-.9 2-2V5c0-1.1-.9-2-2-2zM9 17H7v-7h2v7zm4 0h-2V7h2v10zm4 0h-2v-4h2v4z\"/>\n",
              "    </g>\n",
              "</svg>\n",
              "  </button>\n",
              "\n",
              "<style>\n",
              "  .colab-df-quickchart {\n",
              "      --bg-color: #E8F0FE;\n",
              "      --fill-color: #1967D2;\n",
              "      --hover-bg-color: #E2EBFA;\n",
              "      --hover-fill-color: #174EA6;\n",
              "      --disabled-fill-color: #AAA;\n",
              "      --disabled-bg-color: #DDD;\n",
              "  }\n",
              "\n",
              "  [theme=dark] .colab-df-quickchart {\n",
              "      --bg-color: #3B4455;\n",
              "      --fill-color: #D2E3FC;\n",
              "      --hover-bg-color: #434B5C;\n",
              "      --hover-fill-color: #FFFFFF;\n",
              "      --disabled-bg-color: #3B4455;\n",
              "      --disabled-fill-color: #666;\n",
              "  }\n",
              "\n",
              "  .colab-df-quickchart {\n",
              "    background-color: var(--bg-color);\n",
              "    border: none;\n",
              "    border-radius: 50%;\n",
              "    cursor: pointer;\n",
              "    display: none;\n",
              "    fill: var(--fill-color);\n",
              "    height: 32px;\n",
              "    padding: 0;\n",
              "    width: 32px;\n",
              "  }\n",
              "\n",
              "  .colab-df-quickchart:hover {\n",
              "    background-color: var(--hover-bg-color);\n",
              "    box-shadow: 0 1px 2px rgba(60, 64, 67, 0.3), 0 1px 3px 1px rgba(60, 64, 67, 0.15);\n",
              "    fill: var(--button-hover-fill-color);\n",
              "  }\n",
              "\n",
              "  .colab-df-quickchart-complete:disabled,\n",
              "  .colab-df-quickchart-complete:disabled:hover {\n",
              "    background-color: var(--disabled-bg-color);\n",
              "    fill: var(--disabled-fill-color);\n",
              "    box-shadow: none;\n",
              "  }\n",
              "\n",
              "  .colab-df-spinner {\n",
              "    border: 2px solid var(--fill-color);\n",
              "    border-color: transparent;\n",
              "    border-bottom-color: var(--fill-color);\n",
              "    animation:\n",
              "      spin 1s steps(1) infinite;\n",
              "  }\n",
              "\n",
              "  @keyframes spin {\n",
              "    0% {\n",
              "      border-color: transparent;\n",
              "      border-bottom-color: var(--fill-color);\n",
              "      border-left-color: var(--fill-color);\n",
              "    }\n",
              "    20% {\n",
              "      border-color: transparent;\n",
              "      border-left-color: var(--fill-color);\n",
              "      border-top-color: var(--fill-color);\n",
              "    }\n",
              "    30% {\n",
              "      border-color: transparent;\n",
              "      border-left-color: var(--fill-color);\n",
              "      border-top-color: var(--fill-color);\n",
              "      border-right-color: var(--fill-color);\n",
              "    }\n",
              "    40% {\n",
              "      border-color: transparent;\n",
              "      border-right-color: var(--fill-color);\n",
              "      border-top-color: var(--fill-color);\n",
              "    }\n",
              "    60% {\n",
              "      border-color: transparent;\n",
              "      border-right-color: var(--fill-color);\n",
              "    }\n",
              "    80% {\n",
              "      border-color: transparent;\n",
              "      border-right-color: var(--fill-color);\n",
              "      border-bottom-color: var(--fill-color);\n",
              "    }\n",
              "    90% {\n",
              "      border-color: transparent;\n",
              "      border-bottom-color: var(--fill-color);\n",
              "    }\n",
              "  }\n",
              "</style>\n",
              "\n",
              "  <script>\n",
              "    async function quickchart(key) {\n",
              "      const quickchartButtonEl =\n",
              "        document.querySelector('#' + key + ' button');\n",
              "      quickchartButtonEl.disabled = true;  // To prevent multiple clicks.\n",
              "      quickchartButtonEl.classList.add('colab-df-spinner');\n",
              "      try {\n",
              "        const charts = await google.colab.kernel.invokeFunction(\n",
              "            'suggestCharts', [key], {});\n",
              "      } catch (error) {\n",
              "        console.error('Error during call to suggestCharts:', error);\n",
              "      }\n",
              "      quickchartButtonEl.classList.remove('colab-df-spinner');\n",
              "      quickchartButtonEl.classList.add('colab-df-quickchart-complete');\n",
              "    }\n",
              "    (() => {\n",
              "      let quickchartButtonEl =\n",
              "        document.querySelector('#df-2f930e9c-7c4f-44ce-a0c8-7e2b95eb9473 button');\n",
              "      quickchartButtonEl.style.display =\n",
              "        google.colab.kernel.accessAllowed ? 'block' : 'none';\n",
              "    })();\n",
              "  </script>\n",
              "</div>\n",
              "\n",
              "    </div>\n",
              "  </div>\n"
            ],
            "application/vnd.google.colaboratory.intrinsic+json": {
              "type": "dataframe",
              "summary": "{\n  \"name\": \"df_cosmeticos\",\n  \"rows\": 8,\n  \"fields\": [\n    {\n      \"column\": \"id_produto\",\n      \"properties\": {\n        \"dtype\": \"number\",\n        \"std\": 105.42213927167317,\n        \"min\": 0.8178608201095307,\n        \"max\": 300.0,\n        \"num_unique_values\": 5,\n        \"samples\": [\n          2.0,\n          3.0,\n          0.8178608201095307\n        ],\n        \"semantic_type\": \"\",\n        \"description\": \"\"\n      }\n    },\n    {\n      \"column\": \"id_volunt\\u00e1ria\",\n      \"properties\": {\n        \"dtype\": \"number\",\n        \"std\": 107.81683381169819,\n        \"min\": 1.0,\n        \"max\": 300.0,\n        \"num_unique_values\": 6,\n        \"samples\": [\n          300.0,\n          150.5,\n          225.25\n        ],\n        \"semantic_type\": \"\",\n        \"description\": \"\"\n      }\n    },\n    {\n      \"column\": \"durabilidade\",\n      \"properties\": {\n        \"dtype\": \"number\",\n        \"std\": 100.66863102790279,\n        \"min\": 5.0,\n        \"max\": 300.0,\n        \"num_unique_values\": 8,\n        \"samples\": [\n          17.133333333333333,\n          14.0,\n          300.0\n        ],\n        \"semantic_type\": \"\",\n        \"description\": \"\"\n      }\n    },\n    {\n      \"column\": \"idade\",\n      \"properties\": {\n        \"dtype\": \"number\",\n        \"std\": 95.32281697174109,\n        \"min\": 12.625841031845244,\n        \"max\": 300.0,\n        \"num_unique_values\": 8,\n        \"samples\": [\n          36.88666666666666,\n          36.0,\n          300.0\n        ],\n        \"semantic_type\": \"\",\n        \"description\": \"\"\n      }\n    },\n    {\n      \"column\": \"exposicao_sol\",\n      \"properties\": {\n        \"dtype\": \"number\",\n        \"std\": 105.9184802398583,\n        \"min\": 0.0,\n        \"max\": 300.0,\n        \"num_unique_values\": 5,\n        \"samples\": [\n          0.44,\n          1.0,\n          0.4972163314570013\n        ],\n        \"semantic_type\": \"\",\n        \"description\": \"\"\n      }\n    }\n  ]\n}"
            }
          },
          "metadata": {},
          "execution_count": 5
        }
      ]
    },
    {
      "cell_type": "markdown",
      "source": [
        "Ao rodar as funções info e describe percebemos que:\n",
        "1. Todas as variáveis da base disponobilizada são númericas.\n",
        "2. Temos um dataset com 300 observações(de 300 voluntárias).\n",
        "3. A idade média do estudo é de 36 anos, mínima 1 anos e máxima 60 anos.\n",
        "4. Aproximadamente 50% da base teve exposição ao sol.\n",
        "5. A média de durabilidade é de 17.13 horas"
      ],
      "metadata": {
        "id": "Db4FGuYGpzYO"
      }
    },
    {
      "cell_type": "markdown",
      "source": [
        "1- Diferença estatisticamente significativa na durabilidade dos batons com fórmulas diferentes: Para testar a diferença entre as fórmulas, usaremos a ANOVA. Vamos verificar se a média da durabilidade varia significativamente entre as três fórmulas:"
      ],
      "metadata": {
        "id": "ZvY00XJZ4wXM"
      }
    },
    {
      "cell_type": "markdown",
      "source": [
        "Para responder essa pergunta primeiramente vamos plotar a durabilidade por tipo\n",
        "de batom para uma análise visual e depois iremos realizar um teste de hipóteses\n",
        "\n",
        "---\n",
        "\n",
        "1.1 Análise visual:"
      ],
      "metadata": {
        "id": "1IMm1j-4rBkc"
      }
    },
    {
      "cell_type": "code",
      "source": [
        "import pandas as pd\n",
        "import numpy as np\n",
        "import matplotlib.pyplot as plt\n",
        "import seaborn as sns\n",
        "from scipy.stats import f_oneway, ttest_ind\n",
        "import statsmodels.api as sm"
      ],
      "metadata": {
        "id": "_T-_tw1nCrqc"
      },
      "execution_count": 7,
      "outputs": []
    },
    {
      "cell_type": "code",
      "source": [
        "sns.set(rc={'figure.figsize':(11.7,8.27)})\n",
        "ax = sns.boxplot(x='id_produto', y='durabilidade', data=df_cosmeticos, palette = \"colorblind\").set_title(\"Boxplot comparativo da durabilidade em horas por tipo de produto\")"
      ],
      "metadata": {
        "colab": {
          "base_uri": "https://localhost:8080/",
          "height": 486
        },
        "id": "VgOZZablctmC",
        "outputId": "3d0dc017-b714-4806-8414-afffa02f7a30"
      },
      "execution_count": null,
      "outputs": [
        {
          "output_type": "display_data",
          "data": {
            "text/plain": [
              "<Figure size 1170x827 with 1 Axes>"
            ],
            "image/png": "[encoded data removed]"
          },
          "metadata": {}
        }
      ]
    },
    {
      "cell_type": "code",
      "source": [
        "sns.set(rc={'figure.figsize':(11.7,8.27)})\n",
        "ax = sns.histplot(  data=df_cosmeticos, x='durabilidade', hue='id_produto',element=\"step\", palette = \"colorblind\").set_title(\"Histograma comparativo da durabilidade em horas por tipo de produto\")"
      ],
      "metadata": {
        "colab": {
          "base_uri": "https://localhost:8080/",
          "height": 482
        },
        "id": "2I3Ix881ejhC",
        "outputId": "f4c83803-8cc3-4a4d-b7bc-825080cea809"
      },
      "execution_count": null,
      "outputs": [
        {
          "output_type": "display_data",
          "data": {
            "text/plain": [
              "<Figure size 1170x827 with 1 Axes>"
            ],
            "image/png": "[encoded data removed]"
          },
          "metadata": {}
        }
      ]
    },
    {
      "cell_type": "markdown",
      "source": [
        "através dos gráficos acima, podemos ver que:\n",
        "\n",
        "*   a durabilidade do produto 3 parece ser mais inconsitente do que a dos outros produtos, apresentando maiores valores minimos e máximos.\n",
        "*   Porém a mediana do produto 3 é muito mais alta do que a de seus \"concorrentes\". Dessa forma, temos um produto que o consumidor médio ficaria mais satisfeito com a sua durabilidade, porém apresentaria uma menor consistência.\n",
        "*   As distribuições dos produtos apresentam formas bem distintas, visualmente o batom com fórmula 3 apresenta uma distribuição semelhante à uniforme. As outras distribuições, com fórmula 1 e 2 não parecem bem definidas.\n",
        "*   Nota-se uma assimetria forte no batom de fórmula 1\n",
        "\n",
        "----------\n",
        "1.2 Teste de Hipótese:\n"
      ],
      "metadata": {
        "id": "UfVMPZC6fMKJ"
      }
    },
    {
      "cell_type": "markdown",
      "source": [
        "O nosso objetivo é testar se a variável durabilidade é estatisticamente diferente para os tipos de fórmula mencionados.\n",
        "\n",
        "Pela análise visual anterior vimos que principalmente a fórmula 3 se diferencia muito das outras.\n",
        "\n",
        "Para testar se a distribuição de durabilidade é estatisticamente diferente de acordo com cada uma das fórmulas apresentadas,podemos utilizar diferentes testes. Podemos utilizar testes comparativos de médias paramétricos(que verifiquem  se as médias das diferentes fórmulas são iguais) ou podemos usar testes não parametricos, como o teste ks(kolmogarov-smirnov)\n",
        "\n",
        "O teste KS mede se duas distribuições, são estatisticamente diferentes umas das outras, por meio da distância das distribuições cumulativas apresentadas. Se esses dados possuirem uma distância grande na distribuição cumulativa significa que vem de distribuições diferentes.\n",
        "\n",
        "Esse teste é muito utilizado para teste e monitoramento de variáveis, e para decisão de retreinar modelos de machine learning!\n",
        "\n",
        "Ela vai comparar a distribuição deprobabilidade cumulativa de duas amstras, ou de uma amostra e uma distribuição conhecida.\n"
      ],
      "metadata": {
        "id": "mf2-yfFyg2Mp"
      }
    },
    {
      "cell_type": "markdown",
      "source": [
        "Na rática, quanto maior a distância entre as distribuições cumulativas, então maior a probabilidade de as distribuições serem diferentes.\n",
        "\n",
        "A hipótese nula do teste é: Não há diferença entre as duas distribuições. Então nesse caso se o p-valor for < 0.05 as distribuições são diferentes.\n",
        "\n",
        "Primeiro vamos armazenar a série da durabilidade de cada produto/fórmula"
      ],
      "metadata": {
        "id": "BHmlxQPUONK0"
      }
    },
    {
      "cell_type": "code",
      "source": [
        "from scipy.stats import ks_2samp\n",
        "## calcula a distribuição cumulativa\n",
        "durabilidade_1 = df_cosmeticos[df_cosmeticos.id_produto ==1].durabilidade\n",
        "durabilidade_2 = df_cosmeticos[df_cosmeticos.id_produto ==2].durabilidade\n",
        "durabilidade_3 = df_cosmeticos[df_cosmeticos.id_produto ==3].durabilidade"
      ],
      "metadata": {
        "id": "SH8HoHLxPCER"
      },
      "execution_count": 45,
      "outputs": []
    },
    {
      "cell_type": "markdown",
      "source": [
        "Testando a durabilidade da fórmula 1 com a durabilidade da fórmula 2:"
      ],
      "metadata": {
        "id": "pcoKfbc2PurA"
      }
    },
    {
      "cell_type": "code",
      "source": [
        "ks_2samp(durabilidade_1, durabilidade_2)"
      ],
      "metadata": {
        "colab": {
          "base_uri": "https://localhost:8080/"
        },
        "id": "AnkZJwJcP2dh",
        "outputId": "637f108c-5516-4d5f-c0b2-f58900b69921"
      },
      "execution_count": 9,
      "outputs": [
        {
          "output_type": "execute_result",
          "data": {
            "text/plain": [
              "KstestResult(statistic=0.8, pvalue=3.5640292810890176e-32, statistic_location=11, statistic_sign=-1)"
            ]
          },
          "metadata": {},
          "execution_count": 9
        }
      ]
    },
    {
      "cell_type": "markdown",
      "source": [
        "Como o p-valor do teste é menor do que 0.05, podemos inferir que a durabilidade da formula 1 e 2 são estatisticamente diferentes com 95% de confiança\n",
        "\n",
        "---------------------------------------"
      ],
      "metadata": {
        "id": "Fs54Ak6fQGwB"
      }
    },
    {
      "cell_type": "code",
      "source": [
        "ks_2samp(durabilidade_2, durabilidade_3)"
      ],
      "metadata": {
        "colab": {
          "base_uri": "https://localhost:8080/"
        },
        "id": "Af8vTBroQcjZ",
        "outputId": "7173d48b-73f7-46e2-a714-ac251b646b10"
      },
      "execution_count": 10,
      "outputs": [
        {
          "output_type": "execute_result",
          "data": {
            "text/plain": [
              "KstestResult(statistic=0.98, pvalue=4.395433779467016e-55, statistic_location=11, statistic_sign=1)"
            ]
          },
          "metadata": {},
          "execution_count": 10
        }
      ]
    },
    {
      "cell_type": "code",
      "source": [
        "ks_2samp(durabilidade_1, durabilidade_3)"
      ],
      "metadata": {
        "colab": {
          "base_uri": "https://localhost:8080/"
        },
        "id": "1Us_0HHpQiDZ",
        "outputId": "6d96f5c2-57c0-4127-bc2c-f2c25c3bf321"
      },
      "execution_count": 11,
      "outputs": [
        {
          "output_type": "execute_result",
          "data": {
            "text/plain": [
              "KstestResult(statistic=0.7, pvalue=9.048888467758296e-24, statistic_location=20, statistic_sign=1)"
            ]
          },
          "metadata": {},
          "execution_count": 11
        }
      ]
    },
    {
      "cell_type": "markdown",
      "source": [
        "O mesmo é valido comparando formula 1 com 3 e 2 com 3. Como o p-valor do teste é menor do que 0.05, podemos inferir que são estatisticamente diferentes com 95% de confiança."
      ],
      "metadata": {
        "id": "Z3-GtuiIQouI"
      }
    },
    {
      "cell_type": "markdown",
      "source": [
        "# **Pergunta 2**: Essa diferenca persiste ou nao quando a voluntária se expoe ao sol? E com relacao a idade?\n",
        "\n",
        "-----------------------------------------------\n",
        "Para responder essa pergunta novamente iremos proceder com a análise visual e posteriormente realizar o teste KS\n",
        "\n",
        "------------------------------------\n",
        "**2.1 Análise Visual:** Exposição ao sol\n",
        "\n",
        "--------------------------------------"
      ],
      "metadata": {
        "id": "_jbLUaCmRYCh"
      }
    },
    {
      "cell_type": "code",
      "source": [
        "sns.set(rc={'figure.figsize':(11.7,8.27)})\n",
        "ax = sns.boxplot(x='id_produto', y='durabilidade', hue = \"exposicao_sol\", data=df_cosmeticos, palette = \"colorblind\").set_title(\"Boxplot comparativo da durabilidade em horas por tipo de produto & exposição ao sol\")"
      ],
      "metadata": {
        "colab": {
          "base_uri": "https://localhost:8080/",
          "height": 748
        },
        "id": "0JLix8HQSeyp",
        "outputId": "721f950b-50c4-4eaf-df59-896bcba8d393"
      },
      "execution_count": 13,
      "outputs": [
        {
          "output_type": "display_data",
          "data": {
            "text/plain": [
              "<Figure size 1170x827 with 1 Axes>"
            ],
            "image/png": "[encoded data removed]"
          },
          "metadata": {}
        }
      ]
    },
    {
      "cell_type": "markdown",
      "source": [
        "Pelo gráfico acima, notamos que para todos os casos, quando a voluntária se expos ao sol houve uma redução na mediana da distribuição da durabilidade. Para alguns produtos, entretanto, esse decrescimo foi maior do que para outros. No caso dos produtos 1 e 3 tivemos mais expressivas\n",
        "\n",
        "**2.2 TEste KS:** Exposição ao sol\n",
        "-----------------------------------------"
      ],
      "metadata": {
        "id": "FCRe3443S8MY"
      }
    },
    {
      "cell_type": "code",
      "source": [
        "durabilidade_1_exp_true = df_cosmeticos[(df_cosmeticos.id_produto ==1)&(df_cosmeticos.exposicao_sol ==1)].durabilidade\n",
        "durabilidade_2_exp_true = df_cosmeticos[(df_cosmeticos.id_produto ==2)&(df_cosmeticos.exposicao_sol ==1)].durabilidade\n",
        "durabilidade_3_exp_true = df_cosmeticos[(df_cosmeticos.id_produto ==3)&(df_cosmeticos.exposicao_sol ==1)].durabilidade"
      ],
      "metadata": {
        "id": "gTroNJ1WUjxR"
      },
      "execution_count": 22,
      "outputs": []
    },
    {
      "cell_type": "code",
      "source": [
        "ks_2samp(durabilidade_1_exp_true, durabilidade_2_exp_true)"
      ],
      "metadata": {
        "colab": {
          "base_uri": "https://localhost:8080/"
        },
        "id": "TqZzVZ2LVTX6",
        "outputId": "0e1361fe-a390-4b7d-96ab-2b550238fae7"
      },
      "execution_count": 23,
      "outputs": [
        {
          "output_type": "execute_result",
          "data": {
            "text/plain": [
              "KstestResult(statistic=0.8333333333333334, pvalue=2.6202928286549403e-17, statistic_location=9, statistic_sign=-1)"
            ]
          },
          "metadata": {},
          "execution_count": 23
        }
      ]
    },
    {
      "cell_type": "code",
      "source": [
        "ks_2samp(durabilidade_2_exp_true, durabilidade_3_exp_true)"
      ],
      "metadata": {
        "colab": {
          "base_uri": "https://localhost:8080/"
        },
        "id": "kg0cf4h8WFpv",
        "outputId": "7c618104-bb86-4994-872b-9bf862140d93"
      },
      "execution_count": 24,
      "outputs": [
        {
          "output_type": "execute_result",
          "data": {
            "text/plain": [
              "KstestResult(statistic=0.9487179487179487, pvalue=8.988577494522911e-22, statistic_location=11, statistic_sign=1)"
            ]
          },
          "metadata": {},
          "execution_count": 24
        }
      ]
    },
    {
      "cell_type": "code",
      "source": [
        "ks_2samp(durabilidade_1_exp_true, durabilidade_3_exp_true)"
      ],
      "metadata": {
        "colab": {
          "base_uri": "https://localhost:8080/"
        },
        "id": "cLXQR39NWIg2",
        "outputId": "1a07460e-b485-4a32-8b32-43fbdd74d4a4"
      },
      "execution_count": 25,
      "outputs": [
        {
          "output_type": "execute_result",
          "data": {
            "text/plain": [
              "KstestResult(statistic=0.6957264957264957, pvalue=2.7195930012302357e-10, statistic_location=14, statistic_sign=1)"
            ]
          },
          "metadata": {},
          "execution_count": 25
        }
      ]
    },
    {
      "cell_type": "markdown",
      "source": [
        "Conclusão: A diferença na durabilidade dos batons de diferentes fórmulas persiste, mesmo com exposição ao sol.\n",
        "\n",
        "**2.3 Análise Visual:** idade\n",
        "----------------------------------------------\n",
        "\n",
        "Para analisar idade, podemos agregar tal varável em faixas etárias. Tal agregação pode ser definida com base na distribuição dos dados, ou até mesmo no ponto de vista de négocio."
      ],
      "metadata": {
        "id": "VbymUdulWVDP"
      }
    },
    {
      "cell_type": "code",
      "source": [
        "sns.set(rc={'figure.figsize':(11.7,8.27)})\n",
        "ax = sns.boxplot(x='id_produto', y='idade', data=df_cosmeticos, palette = \"colorblind\").set_title(\"Boxplot comparativo da idade das voluntárias por tempo de produto\")"
      ],
      "metadata": {
        "colab": {
          "base_uri": "https://localhost:8080/",
          "height": 748
        },
        "id": "GEvby57WXH7g",
        "outputId": "5400fed4-0172-4190-acb1-5f2195925bfc"
      },
      "execution_count": 26,
      "outputs": [
        {
          "output_type": "display_data",
          "data": {
            "text/plain": [
              "<Figure size 1170x827 with 1 Axes>"
            ],
            "image/png": "[encoded data removed]"
          },
          "metadata": {}
        }
      ]
    },
    {
      "cell_type": "markdown",
      "source": [
        "Podemos perceber que o produto 2 tem uma mediana de idade maior do que os outros, próximo ao 40 anos, já o produto 3 tem uma mediana de idade inferior a 30 anos.\n",
        "\n",
        "\n",
        "Vamos analisar o gráfico de dispersão dessas variáveis por produto"
      ],
      "metadata": {
        "id": "dPwUUbSZXZ3g"
      }
    },
    {
      "cell_type": "code",
      "source": [
        "##gráfico de dispersão\n",
        "sns.scatterplot(data=df_cosmeticos, x='idade', y='durabilidade', hue=\"id_produto\", palette = \"colorblind\")"
      ],
      "metadata": {
        "colab": {
          "base_uri": "https://localhost:8080/",
          "height": 747
        },
        "id": "FoYLvCAjX8kx",
        "outputId": "4d9c3554-5506-40d2-c107-1dd27e286883"
      },
      "execution_count": 29,
      "outputs": [
        {
          "output_type": "execute_result",
          "data": {
            "text/plain": [
              "<Axes: xlabel='idade', ylabel='durabilidade'>"
            ]
          },
          "metadata": {},
          "execution_count": 29
        },
        {
          "output_type": "display_data",
          "data": {
            "text/plain": [
              "<Figure size 1170x827 with 1 Axes>"
            ],
            "image/png": "[encoded data removed]"
          },
          "metadata": {}
        }
      ]
    },
    {
      "cell_type": "markdown",
      "source": [
        "Já pela análise do scatterplot, ou gráfico de dispersão, podemos ver que\n",
        "\n",
        "\n",
        "1.   Para o produto 1: idade não parece impactar na durabilidade\n",
        "2.   Para o produto 2: a partir dos 40 anos vemos um aumento do patamar da durabilidade, ou seja, a durabilidade do produto parece ser melhor para esse público.\n",
        "2.   Para o produto 3: até 30 anos o produto parece ter uma durabilidade maior. Para faixas de idade maiores a durabilidade em horas fica abaixo de 30.\n",
        "\n",
        "Ou seja, pela análise visual, recomendariamos o produto 2 para mulheres acima de 40 anos e para o produto 3 recomendariamos o produto para mulheres até 40 anos.\n",
        "\n",
        " A suposição inicial é de que o produto 2 deve conter algum composto anti-aging na sua fórmula.\n",
        "\n",
        "Dada a análise exploratória vamos agora definir as categorias de idade da seguinte forma:\n",
        "\n",
        "\n",
        "\n",
        "*   Até 30 anos\n",
        "*   De 30 a 40 anos\n",
        "*   De 40 a 50 anos\n",
        "*   Mais de 50 anos\n"
      ],
      "metadata": {
        "id": "va5RjTqjm3yu"
      }
    },
    {
      "cell_type": "code",
      "source": [
        "## A função abaixo irá ser aplicada em cada uma das linhas do datframe para categorizar a faixa de idade\n",
        "def categoria_idade(row):\n",
        "    if row['idade'] <= 30:\n",
        "        return \"Ate_30_anos\"\n",
        "    elif 30 < row['idade'] <= 40:\n",
        "        return \"DE_31_a_40_anos\"\n",
        "    elif 40 < row['idade'] <= 50:\n",
        "        return \"DE_41_a_50_anos\"\n",
        "    else:\n",
        "        return \"Mais_de_50_anos\""
      ],
      "metadata": {
        "id": "B7Mnbi-kpf_e"
      },
      "execution_count": 31,
      "outputs": []
    },
    {
      "cell_type": "code",
      "source": [
        "## Aplicando a função criada\n",
        "df_cosmeticos[\"faixa_etaria\"] = df_cosmeticos.apply(categoria_idade, axis=1)"
      ],
      "metadata": {
        "id": "i4Yw0US9r5dd"
      },
      "execution_count": 32,
      "outputs": []
    },
    {
      "cell_type": "code",
      "source": [
        "## Observando a quantidade de voluntárias em cada uma das faixas de idade\n",
        "df_cosmeticos[\"faixa_etaria\"].value_counts()"
      ],
      "metadata": {
        "colab": {
          "base_uri": "https://localhost:8080/"
        },
        "id": "aOsxtwS9sQ69",
        "outputId": "d3992a32-0ff2-4d87-cd42-3f8c15e5067a"
      },
      "execution_count": 33,
      "outputs": [
        {
          "output_type": "execute_result",
          "data": {
            "text/plain": [
              "faixa_etaria\n",
              "Ate_30_anos        124\n",
              "DE_41_a_50_anos     78\n",
              "DE_31_a_40_anos     49\n",
              "Mais_de_50_anos     49\n",
              "Name: count, dtype: int64"
            ]
          },
          "metadata": {},
          "execution_count": 33
        }
      ]
    },
    {
      "cell_type": "markdown",
      "source": [
        "Analisando o boxplot da durabilidade por produto e faixa etária"
      ],
      "metadata": {
        "id": "Sx7tumx5sol-"
      }
    },
    {
      "cell_type": "code",
      "source": [
        "sns.set(rc={'figure.figsize':(11.7,8.27)})\n",
        "ax = sns.boxplot(x='id_produto', y='durabilidade', hue= \"faixa_etaria\", data=df_cosmeticos, palette = \"colorblind\").set_title(\"Boxplot comparativo da durabilidae em horas por tipo de produto & faixa etaria\")"
      ],
      "metadata": {
        "colab": {
          "base_uri": "https://localhost:8080/",
          "height": 748
        },
        "id": "j5yyrT23sxue",
        "outputId": "a7ce401c-fcec-49d6-978e-d47276e309b1"
      },
      "execution_count": 34,
      "outputs": [
        {
          "output_type": "display_data",
          "data": {
            "text/plain": [
              "<Figure size 1170x827 with 1 Axes>"
            ],
            "image/png": "[encoded data removed]"
          },
          "metadata": {}
        }
      ]
    },
    {
      "cell_type": "markdown",
      "source": [
        "Pelo gráfico podemos perceber que:\n",
        "\n",
        "\n",
        "\n",
        "*   O Produto 1: Funciona melhor para mulheres acima de 40 anos(mediana mais deslocada) e pior dos 31 a 40 anos\n",
        "*   O Produto 2: Funciona melhor para mulheres acima de 40 anos, conforme já vimos no gráfico de dispersão\n",
        "*   O Produto 1: Funciona melhor para mulheres de 30 anos\n",
        "\n",
        "\n",
        "**2.3 Teste de Hipótese:** idade\n",
        "\n",
        "------------------------------------    \n",
        "\n",
        "1. Até 30 anos\n"
      ],
      "metadata": {
        "id": "tYnu8hSOtZ9k"
      }
    },
    {
      "cell_type": "code",
      "source": [
        "durabilidade_1_ate_30_anos = df_cosmeticos[(df_cosmeticos.id_produto ==1)&(df_cosmeticos.faixa_etaria ==\"Ate_30_anos\")].durabilidade\n",
        "durabilidade_2_ate_30_anos = df_cosmeticos[(df_cosmeticos.id_produto ==2)&(df_cosmeticos.faixa_etaria ==\"Ate_30_anos\")].durabilidade\n",
        "durabilidade_3_ate_30_anos = df_cosmeticos[(df_cosmeticos.id_produto ==3)&(df_cosmeticos.faixa_etaria ==\"Ate_30_anos\")].durabilidade"
      ],
      "metadata": {
        "id": "eo7ZCmJ_uoxg"
      },
      "execution_count": 57,
      "outputs": []
    },
    {
      "cell_type": "code",
      "source": [
        "print(ks_2samp(durabilidade_1_ate_30_anos, durabilidade_2_ate_30_anos))\n",
        "print(ks_2samp(durabilidade_2_ate_30_anos, durabilidade_3_ate_30_anos))\n",
        "print(ks_2samp(durabilidade_1_ate_30_anos, durabilidade_3_ate_30_anos))"
      ],
      "metadata": {
        "colab": {
          "base_uri": "https://localhost:8080/"
        },
        "id": "OI57O0FSvWCc",
        "outputId": "72f343ca-cd20-4eb9-d65f-9bacabc6a8f4"
      },
      "execution_count": 58,
      "outputs": [
        {
          "output_type": "stream",
          "name": "stdout",
          "text": [
            "KstestResult(statistic=1.0, pvalue=1.1254353546489764e-18, statistic_location=7, statistic_sign=-1)\n",
            "KstestResult(statistic=1.0, pvalue=1.0121606088575607e-24, statistic_location=7, statistic_sign=1)\n",
            "KstestResult(statistic=1.0, pvalue=1.249230484985489e-25, statistic_location=20, statistic_sign=1)\n"
          ]
        }
      ]
    },
    {
      "cell_type": "markdown",
      "source": [
        "**Conclusão:** As distribuições da durabilidade dos produtos são estatisticamente diferentes até 30 anos.\n",
        "\n",
        "2. De 31 a 40 anos"
      ],
      "metadata": {
        "id": "Zcmg_XA8v_nl"
      }
    },
    {
      "cell_type": "code",
      "source": [
        "durabilidade_1_31_a_40_anos = df_cosmeticos[(df_cosmeticos.id_produto == 1) & (df_cosmeticos.faixa_etaria == \"DE_31_a_40_anos\")].durabilidade\n",
        "durabilidade_2_31_a_40_anos = df_cosmeticos[(df_cosmeticos.id_produto == 2) & (df_cosmeticos.faixa_etaria == \"DE_31_a_40_anos\")].durabilidade\n",
        "durabilidade_3_31_a_40_anos = df_cosmeticos[(df_cosmeticos.id_produto == 3) & (df_cosmeticos.faixa_etaria == \"DE_31_a_40_anos\")].durabilidade"
      ],
      "metadata": {
        "id": "tAY0wOI5wgCl"
      },
      "execution_count": 63,
      "outputs": []
    },
    {
      "cell_type": "code",
      "source": [
        "print(\"DE_31_a_40_anos:\")\n",
        "print(ks_2samp(durabilidade_1_31_a_40_anos, durabilidade_2_31_a_40_anos))\n",
        "print(ks_2samp(durabilidade_2_31_a_40_anos, durabilidade_3_31_a_40_anos))\n",
        "print(ks_2samp(durabilidade_1_31_a_40_anos, durabilidade_3_31_a_40_anos))\n",
        "print()"
      ],
      "metadata": {
        "colab": {
          "base_uri": "https://localhost:8080/"
        },
        "id": "V0HSIt2wwh80",
        "outputId": "8edf8f37-857e-495c-f9c0-c93b887f9351"
      },
      "execution_count": 64,
      "outputs": [
        {
          "output_type": "stream",
          "name": "stdout",
          "text": [
            "DE_31_a_40_anos:\n",
            "KstestResult(statistic=0.9411764705882353, pvalue=1.5287787361003725e-09, statistic_location=9, statistic_sign=-1)\n",
            "KstestResult(statistic=0.9411764705882353, pvalue=2.607782928149061e-06, statistic_location=9, statistic_sign=1)\n",
            "KstestResult(statistic=0.4090909090909091, pvalue=0.15138596954624428, statistic_location=18, statistic_sign=1)\n",
            "\n"
          ]
        }
      ]
    },
    {
      "cell_type": "markdown",
      "source": [
        "Conclusão: Para as faixas etárias de 31 a 40 anos a distribuição de durabilidade da fórmula 1 e da fórmula 3 não difere com 95% de confiança. Ou seja, para esse publico as duas formulações tem durabilidade semelhante.\n",
        "\n",
        "3. De_41_a_50_anos\n",
        "---------------------------------\n",
        "\n"
      ],
      "metadata": {
        "id": "B9CfQKok1o09"
      }
    },
    {
      "cell_type": "code",
      "source": [
        "# Filtrando os dados para a faixa de 41 a 50 anos\n",
        "durabilidade_1_41_a_50_anos = df_cosmeticos[(df_cosmeticos.id_produto == 1) & (df_cosmeticos.faixa_etaria == \"DE_41_a_50_anos\")].durabilidade\n",
        "durabilidade_2_41_a_50_anos = df_cosmeticos[(df_cosmeticos.id_produto == 2) & (df_cosmeticos.faixa_etaria == \"DE_41_a_50_anos\")].durabilidade\n",
        "durabilidade_3_41_a_50_anos = df_cosmeticos[(df_cosmeticos.id_produto == 3) & (df_cosmeticos.faixa_etaria == \"DE_41_a_50_anos\")].durabilidade\n",
        "\n",
        "# Calculando os testes de hipótese para a faixa de 41 a 50 anos\n",
        "print(\"DE_41_a_50_anos:\")\n",
        "print(ks_2samp(durabilidade_1_41_a_50_anos, durabilidade_2_41_a_50_anos))\n",
        "print(ks_2samp(durabilidade_2_41_a_50_anos, durabilidade_3_41_a_50_anos))\n",
        "print(ks_2samp(durabilidade_1_41_a_50_anos, durabilidade_3_41_a_50_anos))\n",
        "print()\n",
        "\n"
      ],
      "metadata": {
        "colab": {
          "base_uri": "https://localhost:8080/"
        },
        "id": "w9EhfUWK1ppj",
        "outputId": "117e361b-507d-447f-f932-9fbf5792aa3e"
      },
      "execution_count": 65,
      "outputs": [
        {
          "output_type": "stream",
          "name": "stdout",
          "text": [
            "DE_41_a_50_anos:\n",
            "KstestResult(statistic=0.8518518518518519, pvalue=8.705640422151236e-12, statistic_location=11, statistic_sign=-1)\n",
            "KstestResult(statistic=0.9411764705882353, pvalue=2.7486162146846832e-11, statistic_location=11, statistic_sign=1)\n",
            "KstestResult(statistic=0.4335511982570806, pvalue=0.025870030212349574, statistic_location=19, statistic_sign=1)\n",
            "\n"
          ]
        }
      ]
    },
    {
      "cell_type": "markdown",
      "source": [
        "4. Mais_de_50_anos"
      ],
      "metadata": {
        "id": "uRD6QuSG2ops"
      }
    },
    {
      "cell_type": "code",
      "source": [
        "# Filtrando os dados para a faixa de mais de 50 anos\n",
        "durabilidade_1_mais_de_50_anos = df_cosmeticos[(df_cosmeticos.id_produto == 1) & (df_cosmeticos.faixa_etaria == \"Mais_de_50_anos\")].durabilidade\n",
        "durabilidade_2_mais_de_50_anos = df_cosmeticos[(df_cosmeticos.id_produto == 2) & (df_cosmeticos.faixa_etaria == \"Mais_de_50_anos\")].durabilidade\n",
        "durabilidade_3_mais_de_50_anos = df_cosmeticos[(df_cosmeticos.id_produto == 3) & (df_cosmeticos.faixa_etaria == \"Mais_de_50_anos\")].durabilidade\n",
        "\n",
        "# Calculando os testes de hipótese para a faixa de mais de 50 anos\n",
        "print(\"Mais_de_50_anos:\")\n",
        "print(ks_2samp(durabilidade_1_mais_de_50_anos, durabilidade_2_mais_de_50_anos))\n",
        "print(ks_2samp(durabilidade_2_mais_de_50_anos, durabilidade_3_mais_de_50_anos))\n",
        "print(ks_2samp(durabilidade_1_mais_de_50_anos, durabilidade_3_mais_de_50_anos))"
      ],
      "metadata": {
        "colab": {
          "base_uri": "https://localhost:8080/"
        },
        "id": "eY50_E372d_b",
        "outputId": "f83c9984-ea5e-4f42-f3bf-796d1ddc9708"
      },
      "execution_count": 66,
      "outputs": [
        {
          "output_type": "stream",
          "name": "stdout",
          "text": [
            "Mais_de_50_anos:\n",
            "KstestResult(statistic=0.9444444444444444, pvalue=7.933766012281933e-09, statistic_location=11, statistic_sign=-1)\n",
            "KstestResult(statistic=1.0, pvalue=9.696825126122363e-09, statistic_location=11, statistic_sign=1)\n",
            "KstestResult(statistic=0.1623931623931624, pvalue=0.9621595023492377, statistic_location=13, statistic_sign=-1)\n"
          ]
        }
      ]
    },
    {
      "cell_type": "markdown",
      "source": [
        "Conclusão: Para faixas etarias acima de 50 anos a distribuição da durabilidade da fórmula 1 e da fórmula 3 não difere com 95% de confiança.  Ou seja, para esse publico as duas formulações tem durabilidade semelhante, assim como para as faixas etárias de 31 a 40 anos"
      ],
      "metadata": {
        "id": "yKelDANV2zSF"
      }
    },
    {
      "cell_type": "markdown",
      "source": [
        "# Conclusão final do desafio 1:\n",
        "\n",
        "As formulações estudadas são bem diferentes, de modo que:\n",
        "\n",
        "\n",
        "*   O Produto 1, de modo geral apresenta durabilidade intermediária:\n",
        "\n",
        "     Analisando mais especificamente essa durabibilidade é mais acentuada nos grupos: acima ddos 40 anos.\n",
        "\n",
        "     Apresenta pior durabilidade quando ocorre a exposição ao sol\n",
        "\n",
        "\n",
        "*   O Produto 2:\n",
        "\n",
        "     Apresenta uma durabilidade menor que os outros, mas possui maior consistência quando falamos sobre exposição ao sol. Sendo a durabilidade deste produto pouco afetada por tal fator.\n",
        "\n",
        "     Apresenta uma melhor durabilidade para faixas etárias acima dos 40 anos, tem uma distribuição muito diferente dos outros, podendo ser comercializado de forma/para públicos diferentes.\n",
        "\n",
        "*   O Produto 3: Apresenta maior durabilidade.\n",
        "\n",
        "     Analisando mais especificamente, essa durabilidade é mais acentuada nos grupos: de até 30 anos e sem exposição ao sol.\n",
        "\n",
        "     A durabilidade deste produto devai bastante para faixas etárias de 31 a 40 anos e de 41 a 50 anos sobretudo. tendo resultado muito semelhante ao produto 1, conforme mostrado no teste KS.\n",
        "\n",
        "\n",
        "     Observações: O teste KS nesse caso tem o diferencial de analisar a distribuição como um todo no produto e não somente a média, portanto, tendo em vista esse beneficio, optamos por traze-lo no gabarito da solução.\n"
      ],
      "metadata": {
        "id": "dLpsjD4I3TML"
      }
    },
    {
      "cell_type": "markdown",
      "source": [
        "#Desafio 2 :"
      ],
      "metadata": {
        "id": "WDaT0IW3ZzPo"
      }
    },
    {
      "cell_type": "markdown",
      "source": [
        "Imagine que voce trabalha em uma empresa do setor alimentício, e o preço de\n",
        "determinado produto, um novo picolé, tem uma distribuição normal com média igual a R$7,85 e desvio padrão igual a R$3,32. Suspeita-se que devido ao verão, em determinadas localidades de praia o preco do picolé esteja mais caro.\n",
        "\n",
        "Para verificar se esse efeito é estatisticamente significativo, contactaram voce, analista de dados.\n",
        "\n",
        "Suponha que para realizar essa análise voce tenha dados de 45 lojas em cidades do litoral, escolhidas aleatoriamente. E constatou que o preço médio do picolé nessas cidades é de R$11,52.\n",
        "\n",
        "1. Voce pode concluir que existe diferenca de precos estatisticamente\n",
        "relevante com 5% de significancia?\n",
        "\n",
        "2. Qual o valor da variável teste, o intervalo de confianca e o p-valor?"
      ],
      "metadata": {
        "id": "abM0HN_3Z4tI"
      }
    },
    {
      "cell_type": "code",
      "source": [
        "#### importando os pacotes\n",
        "import pandas as pd\n",
        "from scipy import stats\n",
        "import numpy as np\n",
        "import seaborn as sns\n",
        "import matplotlib.pyplot as plt"
      ],
      "metadata": {
        "id": "_6bOZHlQaIwY"
      },
      "execution_count": 67,
      "outputs": []
    },
    {
      "cell_type": "code",
      "source": [
        "# Dados\n",
        "media_populacional = 7.85\n",
        "media_amostral = 11.52\n",
        "desvio_padrao_amostral = 3.32\n",
        "tamanho_amostra = 45\n",
        "\n",
        "values = np.random.normal(media_populacional,desvio_padrao_amostral,tamanho_amostra)\n",
        "plt.hist(values,10)\n",
        "plt.axvline(media_amostral, color='k',linestyle='dashed', linewidth=2)\n",
        "plt.show()"
      ],
      "metadata": {
        "colab": {
          "base_uri": "https://localhost:8080/",
          "height": 701
        },
        "id": "jkpUgM-F8INr",
        "outputId": "2abcd73b-8030-429c-b897-e78edb863f97"
      },
      "execution_count": 71,
      "outputs": [
        {
          "output_type": "display_data",
          "data": {
            "text/plain": [
              "<Figure size 1170x827 with 1 Axes>"
            ],
            "image/png": "[encoded data removed]"
          },
          "metadata": {}
        }
      ]
    },
    {
      "cell_type": "markdown",
      "source": [
        "Acima temos o plot da distribuição dos dados analisados e na linha tracejada o preço encontrado. Para responder a pergunta vamos calcular quao o preo do sorvete na calda superior da distribuição, a 95% de significativa estatistica"
      ],
      "metadata": {
        "id": "x2qcso_Y9dW7"
      }
    },
    {
      "cell_type": "code",
      "source": [
        "import numpy as np\n",
        "from scipy.stats import t\n",
        "\n",
        "# Dados\n",
        "media_populacional = 7.85\n",
        "desvio_padrao_populacional = 3.32\n",
        "media_amostral = 11.52\n",
        "n = 45  # número de lojas\n",
        "\n",
        "# Calculando o valor da variável teste (t)\n",
        "t_valor = (media_amostral - media_populacional) / (desvio_padrao_populacional / np.sqrt(n))\n",
        "\n",
        "# Graus de liberdade\n",
        "graus_liberdade = n - 1\n",
        "\n",
        "# Calculando o p-valor (usando uma distribuição t de Student)\n",
        "p_valor = t.sf(np.abs(t_valor), graus_liberdade) *2  # multiplicado por 2 para teste bilateral\n",
        "\n",
        "# Calculando o intervalo de confiança (95%)\n",
        "erro_padrao = desvio_padrao_populacional / np.sqrt(n)\n",
        "intervalo_confianca = t.interval(0.95, graus_liberdade, loc=media_amostral, scale=erro_padrao)\n",
        "\n",
        "print(\"Valor da variável teste (t):\", t_valor)\n",
        "print(\"Intervalo de confiança (95%):\", intervalo_confianca)\n",
        "print(\"P-valor:\", p_valor)"
      ],
      "metadata": {
        "colab": {
          "base_uri": "https://localhost:8080/"
        },
        "id": "LnMhGEyIxXid",
        "outputId": "2a927924-2c9c-4664-8a60-85629533b5d0"
      },
      "execution_count": 95,
      "outputs": [
        {
          "output_type": "stream",
          "name": "stdout",
          "text": [
            "Valor da variável teste (t): 7.415394106106231\n",
            "Intervalo de confiança (95%): (10.522561579904444, 12.517438420095555)\n",
            "P-valor: 2.826669643852176e-09\n"
          ]
        }
      ]
    },
    {
      "cell_type": "markdown",
      "source": [
        "Analise Com base nos resultados obtidos do teste T:\n",
        "\n",
        "Valor da variável teste (t): O valor da variável teste é aproximadamente 7.42. Isso indica que a diferença entre a média amostral e a média populacional é 7.42 vezes maior do que o erro padrão esperado.\n",
        "\n",
        "Intervalo de confiança (95%): O intervalo de confiança de 95% para a média amostral do preço do picolé nas cidades do litoral está entre R$10.52 e R$12.52. Isso significa que podemos estar razoavelmente confiantes de que a média verdadeira do preço do picolé nas cidades do litoral está dentro deste intervalo.\n",
        "\n",
        "P-valor: O p-valor é extremamente baixo, aproximadamente 2.83e-09 (ou seja, 0.00000000283). Isso indica que a probabilidade de observar uma diferença tão grande ou maior entre a média amostral e a média populacional, supondo que não haja diferença real, é extremamente baixa.\n",
        "\n",
        "Com base nesses resultados, podemos concluir que há uma diferença estatisticamente significativa entre o preço médio do picolé nas cidades do litoral e a média populacional. Portanto, rejeitamos a hipótese nula de que não há diferença significativa de preço de picolé nas cidades do litoral em comparação com a média populacional. Isso sugere que o efeito do verão pode estar influenciando o preço do picolé nessas localidades de praia, levando a um aumento significativo de preço em comparação com a média populacional."
      ],
      "metadata": {
        "id": "mnEHQ-mzx0js"
      }
    },
    {
      "cell_type": "code",
      "source": [
        "##teste Z\n",
        "from scipy.stats import norm\n",
        "# Parâmetros\n",
        "media_populacional = 7.85\n",
        "desvio_padrao_populacional = 3.32\n",
        "media_amostral = 11.52\n",
        "tamanho_amostra = 45\n",
        "nivel_significancia = 0.05\n",
        "\n",
        "# Calculando o valor do teste Z\n",
        "Z = (media_amostral - media_populacional) / (desvio_padrao_populacional / np.sqrt(tamanho_amostra))\n",
        "\n",
        "# Calculando o intervalo de confiança\n",
        "erro_padrao = desvio_padrao_populacional / np.sqrt(tamanho_amostra)\n",
        "intervalo_confianca = norm.interval(1 - nivel_significancia, loc=media_amostral, scale=erro_padrao)\n",
        "\n",
        "# Calculando o p-valor\n",
        "p_valor = 2 * (1 - norm.cdf(np.abs(Z)))\n",
        "\n",
        "print(\"Valor do teste Z:\", Z)\n",
        "print(\"Intervalo de confiança:\", intervalo_confianca)\n",
        "print(\"P-valor:\", p_valor)"
      ],
      "metadata": {
        "colab": {
          "base_uri": "https://localhost:8080/"
        },
        "id": "u4vl6x0_A2tK",
        "outputId": "2d8cde17-15ee-4cf4-fc6f-f37d334e6924"
      },
      "execution_count": 90,
      "outputs": [
        {
          "output_type": "stream",
          "name": "stdout",
          "text": [
            "Valor do teste Z: 7.415394106106231\n",
            "Intervalo de confiança: (10.549981721761917, 12.490018278238082)\n",
            "P-valor: 1.212363542890671e-13\n"
          ]
        }
      ]
    },
    {
      "cell_type": "markdown",
      "source": [
        "Analise resultados teste Z:\n",
        "\n",
        "Valor do teste Z: O valor do teste Z é aproximadamente 7.42. Isso indica que a diferença entre a média amostral e a média populacional está a 7.42 desvios padrão da média populacional.\n",
        "\n",
        "Intervalo de confiança: O intervalo de confiança de 95% para a média populacional do preço do picolé é de aproximadamente (R$ 10.55, R$ 12.49). Isso significa que podemos ter 95% de confiança de que a verdadeira média do preço do picolé está dentro deste intervalo.\n",
        "\n",
        "P-valor: O p-valor é muito pequeno, aproximadamente 1.21e-13 . Como o p-valor é menor do que o nível de significância de 0.05, rejeitamos a hipótese nula. Isso indica que há evidências estatísticas suficientes para concluir que a diferença nos preços é estatisticamente significativa.\n",
        "\n",
        "Portanto, com 95% de confiança, podemos afirmar que, de fato, devido ao verão, em determinadas localidades de praia, o preço do picolé está mais caro."
      ],
      "metadata": {
        "id": "QFnP2BbTE6Zx"
      }
    }
  ]
}